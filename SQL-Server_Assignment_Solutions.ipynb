{
 "cells": [
  {
   "cell_type": "markdown",
   "metadata": {},
   "source": [
    "# SQL-Server Assignment Solutions"
   ]
  },
  {
   "cell_type": "markdown",
   "metadata": {},
   "source": [
    "### SQL-Server Assignment-1 Solution"
   ]
  },
  {
   "cell_type": "code",
   "execution_count": null,
   "metadata": {},
   "outputs": [],
   "source": [
    "CREATE TABLE transaction_logs(\n",
    "    Sender_ID INT NOT NULL,\n",
    "    Receiver_ID INT NOT NULL,\n",
    "    Amount INT,\n",
    "    Transaction_Date DATE NOT NULL\n",
    ");\n",
    "\n",
    "INSERT INTO transaction_logs (Sender_ID, Receiver_ID, Amount, Transaction_Date)\n",
    "VALUES (55,22,500,'2021-05-18');\n",
    "\n",
    "INSERT INTO transaction_logs (Sender_ID, Receiver_ID, Amount, Transaction_Date)\n",
    "VALUES (11,33,350,'2021-05-19');\n",
    "\n",
    "INSERT INTO transaction_logs (Sender_ID, Receiver_ID, Amount, Transaction_Date)\n",
    "VALUES (22,11,650,'2021-05-19');\n",
    "\n",
    "INSERT INTO transaction_logs (Sender_ID, Receiver_ID, Amount, Transaction_Date)\n",
    "VALUES (22,33,900,'2021-05-20');\n",
    "\n",
    "INSERT INTO transaction_logs (Sender_ID, Receiver_ID, Amount, Transaction_Date)\n",
    "VALUES (33,11,500,'2021-05-21');\n",
    "\n",
    "INSERT INTO transaction_logs (Sender_ID, Receiver_ID, Amount, Transaction_Date)\n",
    "VALUES (33,22,750,'2021-05-21');\n",
    "\n",
    "INSERT INTO transaction_logs (Sender_ID, Receiver_ID, Amount, Transaction_Date)\n",
    "VALUES (11,44,300,'2021-05-22');\n",
    "\n",
    "\n",
    "SELECT COALESCE(A.Sender_ID, B.Receiver_ID) AS Account_Name, COALESCE(A.Debit, 0)+COALESCE(B.Credit, 0) \n",
    "AS Net_Change\n",
    "FROM\n",
    "(SELECT Sender_id, SUM(0 - Amount) AS Debit\n",
    "FROM transaction_logs\n",
    "GROUP BY Sender_id) AS A FULL OUTER JOIN\n",
    "(SELECT Receiver_ID, SUM(Amount) AS Credit\n",
    "FROM transaction_logs\n",
    "GROUP BY Receiver_ID) AS B ON A.Sender_ID = B.Receiver_ID\n",
    "ORDER BY Net_Change DESC;\n",
    "\n",
    "-----------------------\n",
    "# With CTE Solution\n",
    "\n",
    "with ttt\n",
    "as\n",
    "(\n",
    "    select sender_id, sum(0-amount) as debit\n",
    "    from transaction_logs\n",
    "    group by sender_id\n",
    "),\n",
    "ccc as\n",
    "(\n",
    "    select receiver_id, sum(amount) as credit\n",
    "    from transaction_logs\n",
    "    group by receiver_id\n",
    ")\n",
    "\n",
    "select coalesce(ttt.sender_id, ccc.receiver_id) as account_id, coalesce(ttt.debit,0)+coalesce(ccc.credit,0) as toplam\n",
    "from ttt full outer join ccc on ttt.sender_id=ccc.receiver_id\n"
   ]
  },
  {
   "cell_type": "markdown",
   "metadata": {},
   "source": [
    "### SQL-Server Assignment-2 Solution"
   ]
  },
  {
   "cell_type": "code",
   "execution_count": null,
   "metadata": {},
   "outputs": [],
   "source": [
    "CREATE TABLE actions (\n",
    "    Visitor_ID INTEGER PRIMARY KEY IDENTITY (FOR SQLITE AUTOINCREMENT),\n",
    "    Adv_Type VARCHAR (40),\n",
    "    Action VARCHAR (40)\n",
    ");\n",
    "\n",
    "INSERT INTO actions (Adv_Type, Action)\n",
    "VALUES ('A', 'Left'), ('A', 'Order'), ('B', 'Left'), ('A', 'Order'), ('A', 'Review'), \n",
    "        ('A', 'Left'), ('B', 'Left'), ('B', 'Order'), ('B', 'Review'), ('A', 'Review')\n",
    "\n",
    "SELECT Adv_Type, ROUND(CAST(SUM(Action_V) AS REAL) / COUNT(Action), 2) AS Conversion_Rate\n",
    "FROM (\n",
    "SELECT Visitor_ID, Adv_Type, Action, \n",
    "CASE\n",
    "WHEN Action = 'Order' THEN 1\n",
    "ELSE 0\n",
    "END AS Action_V\n",
    "FROM actions) AS new\n",
    "GROUP BY Adv_Type"
   ]
  },
  {
   "cell_type": "markdown",
   "metadata": {},
   "source": [
    "### Question 1 \n",
    "```\n",
    "Find customers who ordered both Electric Bikes, Comfort Bicycles and Children \n",
    "Bicycles in the same order.\n",
    "```"
   ]
  },
  {
   "cell_type": "code",
   "execution_count": null,
   "metadata": {},
   "outputs": [],
   "source": [
    "SELECT first_name, last_name\n",
    "FROM sale.customer\n",
    "WHERE customer_id IN \n",
    "    (SELECT customer_id\n",
    "    FROM sale.orders\n",
    "    WHERE order_id IN\n",
    "        (SELECT new_table.order_id \n",
    "        FROM \n",
    "        (SELECT DISTINCT oo.order_id, c.category_id\n",
    "        FROM product.category c JOIN product.product p ON c.category_id=p.category_id\n",
    "        JOIN sale.order_item o ON o.product_id=p.product_id JOIN sale.orders oo ON oo.order_id=o.order_id \n",
    "        JOIN sale.customer s ON oo.customer_id=s.customer_id\n",
    "        WHERE c.category_name IN ('Electric Bikes', 'Comfort Bicycles', 'Children Bicycles')) AS new_table\n",
    "GROUP BY new_table.order_id\n",
    "HAVING count(new_table.category_id) = 3))\n",
    "ORDER BY last_name"
   ]
  },
  {
   "cell_type": "markdown",
   "metadata": {},
   "source": [
    "##### With CTE"
   ]
  },
  {
   "cell_type": "code",
   "execution_count": null,
   "metadata": {},
   "outputs": [],
   "source": [
    "WITH A\n",
    "AS (\n",
    "    SELECT category_id, category_name\n",
    "    FROM product.category\n",
    "    WHERE category_name IN ('Electric Bikes', 'Comfort Bicycles', 'Children Bicycles')\n",
    "),\n",
    "B \n",
    "AS (\n",
    "    SELECT product_id, category_id\n",
    "    FROM product.product\n",
    "),\n",
    "C \n",
    "AS (\n",
    "    SELECT order_id, product_id\n",
    "    FROM sale.order_item\n",
    "),\n",
    "D \n",
    "AS (\n",
    "    SELECT customer_id, order_id\n",
    "    FROM sale. orders\n",
    ")\n",
    "SELECT first_name, last_name\n",
    "FROM sale.customer\n",
    "WHERE customer_id IN\n",
    "    (SELECT customer_id\n",
    "    FROM sale.orders\n",
    "    WHERE order_id IN\n",
    "        (SELECT E.order_id\n",
    "        FROM\n",
    "        (SELECT DISTINCT C.order_id, A.category_name\n",
    "        FROM D JOIN C ON D.order_id=C.order_id JOIN B ON C.product_id=B.product_id\n",
    "        JOIN A ON B.category_id=A.category_id) AS E\n",
    "        GROUP BY E.order_id\n",
    "        HAVING count(E.order_id) = 3))"
   ]
  },
  {
   "cell_type": "markdown",
   "metadata": {},
   "source": [
    "### Question 2\n",
    "```\n",
    "What is the sales quantity of product according to the brands and sort them highest-lowest?\n",
    "```"
   ]
  },
  {
   "cell_type": "code",
   "execution_count": null,
   "metadata": {},
   "outputs": [],
   "source": [
    "select b.brand_name, sum(o.quantity) as toplam\n",
    "from product.brand b join product.product p on b.brand_id=p.brand_id\n",
    "join sale.order_item o on o.product_id=p.product_id\n",
    "group by b.brand_name\n",
    "order by toplam desc"
   ]
  },
  {
   "cell_type": "markdown",
   "metadata": {},
   "source": [
    "### Question 3\n",
    "```\n",
    "Select the top 5 most expensive products\n",
    "```"
   ]
  },
  {
   "cell_type": "code",
   "execution_count": null,
   "metadata": {},
   "outputs": [],
   "source": [
    "select distinct top 5 p.product_name, o.list_price\n",
    "from product.product p join sale.order_item o on p.product_id=o.product_id\n",
    "order by o.list_price desc"
   ]
  },
  {
   "cell_type": "markdown",
   "metadata": {},
   "source": [
    "### Question 4\n",
    "```\n",
    "What are the categories that each brand has?\n",
    "```"
   ]
  },
  {
   "cell_type": "code",
   "execution_count": null,
   "metadata": {},
   "outputs": [],
   "source": [
    "select distinct b.brand_name, c.category_name\n",
    "from product.brand b join product.product p on p.brand_id=b.brand_id\n",
    "join product.category c on p.category_id=c.category_id"
   ]
  },
  {
   "cell_type": "markdown",
   "metadata": {},
   "source": [
    "### Question 5\n",
    "```\n",
    "Select the avg prices according to brands and categories\n",
    "```"
   ]
  },
  {
   "cell_type": "code",
   "execution_count": null,
   "metadata": {},
   "outputs": [],
   "source": [
    "select b.brand_name, c.category_name, avg(o.list_price) as average\n",
    "from product.brand b join product.product p on p.brand_id=b.brand_id\n",
    "join product.category c on p.category_id=c.category_id \n",
    "join sale.order_item o on o.product_id=p.product_id\n",
    "group by b.brand_name, c.category_name\n",
    "order by average"
   ]
  },
  {
   "cell_type": "markdown",
   "metadata": {},
   "source": [
    "### Question 6\n",
    "```\n",
    "Select the annual amount of product produced according to brands\n",
    "```"
   ]
  },
  {
   "cell_type": "code",
   "execution_count": null,
   "metadata": {},
   "outputs": [],
   "source": [
    "select b.brand_name, p.model_year, sum(o.quantity) as toplam\n",
    "from product.brand b join product.product p on b.brand_id=p.brand_id \n",
    "join sale.order_item o on o.product_id=p.product_id\n",
    "group by b.brand_name, p.model_year\n",
    "order by b.brand_name, model_year"
   ]
  },
  {
   "cell_type": "code",
   "execution_count": null,
   "metadata": {},
   "outputs": [],
   "source": [
    "select b.brand_name, p.model_year, sum(o.quantity * o.list_price * (1 - o.discount)) as toplam\n",
    "from product.brand b join product.product p on b.brand_id=p.brand_id \n",
    "join sale.order_item o on o.product_id=p.product_id\n",
    "group by b.brand_name, p.model_year\n",
    "order by b.brand_name, model_year"
   ]
  },
  {
   "cell_type": "markdown",
   "metadata": {},
   "source": [
    "### Question 7\n",
    "```\n",
    "Select the store which has the most sales quantity in 2018\n",
    "```"
   ]
  },
  {
   "cell_type": "code",
   "execution_count": null,
   "metadata": {},
   "outputs": [],
   "source": [
    "select top 1 so.store_id, s.store_name, sum(o.quantity) as toplam\n",
    "from sale.order_item o join sale.orders so on o.order_id=so.order_id \n",
    "join sale.store s on so.store_id=s.store_id\n",
    "where so.order_date between '2018-01-01' and '2018-12-31'\n",
    "group by so.store_id, s.store_name\n",
    "order by toplam desc"
   ]
  },
  {
   "cell_type": "markdown",
   "metadata": {},
   "source": [
    "### Question 8\n",
    "```\n",
    "Select the store which has the most sales amount in 2018\n",
    "```"
   ]
  },
  {
   "cell_type": "code",
   "execution_count": null,
   "metadata": {},
   "outputs": [],
   "source": [
    "select top 1 so.store_id, s.store_name, sum(o.quantity * (1 - o.discount) * o.list_price) as amount\n",
    "from sale.order_item o join sale.orders so on o.order_id=so.order_id \n",
    "join sale.store s on so.store_id=s.store_id\n",
    "where so.order_date between '2018-01-01' and '2018-12-31'\n",
    "group by so.store_id, s.store_name\n",
    "order by amount desc"
   ]
  },
  {
   "cell_type": "markdown",
   "metadata": {},
   "source": [
    "### Question 9\n",
    "```\n",
    "Select the personnel which has the most sales amount in 2018\n",
    "```"
   ]
  },
  {
   "cell_type": "code",
   "execution_count": null,
   "metadata": {},
   "outputs": [],
   "source": [
    "select *\n",
    "from sale.staff\n",
    "where staff_id = \n",
    "    (select staff_id\n",
    "    from sale.orders\n",
    "    where order_id =\n",
    "        (select new.order_id\n",
    "        from\n",
    "        (select top 1 oo.order_id, sum(oo.list_price * (1 - oo.discount) * oo.quantity) as amount\n",
    "        from sale.staff s join sale.orders o on s.staff_id=o.staff_id\n",
    "        join sale.order_item oo on oo.order_id=o.order_id\n",
    "        where o.order_date between '2018-01-01' and '2018-12-31'\n",
    "        group by oo.order_id\n",
    "        order by amount desc) as new))"
   ]
  }
 ],
 "metadata": {
  "kernelspec": {
   "display_name": "Python 3 (ipykernel)",
   "language": "python",
   "name": "python3"
  },
  "language_info": {
   "codemirror_mode": {
    "name": "ipython",
    "version": 3
   },
   "file_extension": ".py",
   "mimetype": "text/x-python",
   "name": "python",
   "nbconvert_exporter": "python",
   "pygments_lexer": "ipython3",
   "version": "3.8.5"
  }
 },
 "nbformat": 4,
 "nbformat_minor": 4
}
